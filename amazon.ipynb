{
 "cells": [
  {
   "cell_type": "code",
   "execution_count": null,
   "metadata": {
    "executionInfo": {
     "elapsed": 9,
     "status": "ok",
     "timestamp": 1757434964681,
     "user": {
      "displayName": "BIBHANSHU RAJ",
      "userId": "15469581439760304926"
     },
     "user_tz": -330
    },
    "id": "NHInzc8FQLXc"
   },
   "outputs": [],
   "source": [
    "import pandas as pd\n",
    "import numpy as np\n",
    "import seaborn as sns\n",
    "import matplotlib.pyplot as plt\n",
    "\n",
    "plt.style.use('ggplot')\n",
    "\n",
    "import nltk"
   ]
  },
  {
   "cell_type": "code",
   "execution_count": null,
   "metadata": {
    "colab": {
     "base_uri": "https://localhost:8080/"
    },
    "executionInfo": {
     "elapsed": 277,
     "status": "ok",
     "timestamp": 1757434964966,
     "user": {
      "displayName": "BIBHANSHU RAJ",
      "userId": "15469581439760304926"
     },
     "user_tz": -330
    },
    "id": "gwLdQYrdSV3q",
    "outputId": "0cf68cb4-af42-4ef6-9ef5-87a1d6e39e59"
   },
   "outputs": [],
   "source": [
    "nltk.download('averaged_perceptron_tagger_eng')\n",
    "nltk.download('maxent_ne_chunker_tab')\n",
    "nltk.download('words')\n",
    "nltk.download('vader_lexicon')\n",
    "nltk.download('punkt_tab')\n"
   ]
  },
  {
   "cell_type": "code",
   "execution_count": null,
   "metadata": {
    "colab": {
     "base_uri": "https://localhost:8080/",
     "height": 276
    },
    "executionInfo": {
     "elapsed": 7593,
     "status": "ok",
     "timestamp": 1757434972558,
     "user": {
      "displayName": "BIBHANSHU RAJ",
      "userId": "15469581439760304926"
     },
     "user_tz": -330
    },
    "id": "T58-mwgAQ-4M",
    "outputId": "f7d34aae-a6ea-493d-9849-4fe165e9c410"
   },
   "outputs": [],
   "source": [
    "# Read the data\n",
    "df = pd.read_csv('/content/drive/MyDrive/Colab Notebooks/Amazon Reviews/Reviews.csv')\n",
    "df.head()"
   ]
  },
  {
   "cell_type": "code",
   "execution_count": null,
   "metadata": {
    "colab": {
     "base_uri": "https://localhost:8080/",
     "height": 53
    },
    "executionInfo": {
     "elapsed": 4,
     "status": "ok",
     "timestamp": 1757434972563,
     "user": {
      "displayName": "BIBHANSHU RAJ",
      "userId": "15469581439760304926"
     },
     "user_tz": -330
    },
    "id": "38lAOIpERHM_",
    "outputId": "81be0b7b-ef85-425d-9a7d-965ac026c27f"
   },
   "outputs": [],
   "source": [
    "df['Text'].values[0]"
   ]
  },
  {
   "cell_type": "code",
   "execution_count": null,
   "metadata": {
    "colab": {
     "base_uri": "https://localhost:8080/"
    },
    "executionInfo": {
     "elapsed": 22,
     "status": "ok",
     "timestamp": 1757434972608,
     "user": {
      "displayName": "BIBHANSHU RAJ",
      "userId": "15469581439760304926"
     },
     "user_tz": -330
    },
    "id": "UiJoT1FxRLWp",
    "outputId": "a0edfee1-67d9-4b93-aa39-5eb7fcc667ca"
   },
   "outputs": [],
   "source": [
    "df.shape"
   ]
  },
  {
   "cell_type": "code",
   "execution_count": null,
   "metadata": {
    "colab": {
     "base_uri": "https://localhost:8080/"
    },
    "executionInfo": {
     "elapsed": 212,
     "status": "ok",
     "timestamp": 1757434972821,
     "user": {
      "displayName": "BIBHANSHU RAJ",
      "userId": "15469581439760304926"
     },
     "user_tz": -330
    },
    "id": "G6bC3ULfRNVu",
    "outputId": "f9981fb9-0b23-45ad-ee12-6d889f5fe64b"
   },
   "outputs": [],
   "source": [
    "df = df.head(500)\n",
    "print(df.shape)"
   ]
  },
  {
   "cell_type": "code",
   "execution_count": null,
   "metadata": {
    "colab": {
     "base_uri": "https://localhost:8080/",
     "height": 276
    },
    "executionInfo": {
     "elapsed": 196,
     "status": "ok",
     "timestamp": 1757434972827,
     "user": {
      "displayName": "BIBHANSHU RAJ",
      "userId": "15469581439760304926"
     },
     "user_tz": -330
    },
    "id": "z-37Jr-RRhFU",
    "outputId": "7f1e5a12-9471-4908-f365-870f0bd6f076"
   },
   "outputs": [],
   "source": [
    "df.head()"
   ]
  },
  {
   "cell_type": "code",
   "execution_count": null,
   "metadata": {
    "colab": {
     "base_uri": "https://localhost:8080/",
     "height": 505
    },
    "executionInfo": {
     "elapsed": 152,
     "status": "ok",
     "timestamp": 1757434972978,
     "user": {
      "displayName": "BIBHANSHU RAJ",
      "userId": "15469581439760304926"
     },
     "user_tz": -330
    },
    "id": "18NWLtthRjl3",
    "outputId": "2c519b8a-07f2-441a-acde-9cb0cd162173"
   },
   "outputs": [],
   "source": [
    "df['Score'].value_counts().sort_index().plot(kind = 'bar', title = 'Reviews by Stars', figsize = (10,5))"
   ]
  },
  {
   "cell_type": "code",
   "execution_count": null,
   "metadata": {
    "colab": {
     "base_uri": "https://localhost:8080/",
     "height": 35
    },
    "executionInfo": {
     "elapsed": 29,
     "status": "ok",
     "timestamp": 1757434973008,
     "user": {
      "displayName": "BIBHANSHU RAJ",
      "userId": "15469581439760304926"
     },
     "user_tz": -330
    },
    "id": "xsKexHZxRl66",
    "outputId": "6c027dde-9221-486f-e501-f66861bd324f"
   },
   "outputs": [],
   "source": [
    "# Basic NLTK\n",
    "\n",
    "example = df['Text'][50]\n",
    "example"
   ]
  },
  {
   "cell_type": "code",
   "execution_count": null,
   "metadata": {
    "colab": {
     "base_uri": "https://localhost:8080/"
    },
    "executionInfo": {
     "elapsed": 17,
     "status": "ok",
     "timestamp": 1757434973014,
     "user": {
      "displayName": "BIBHANSHU RAJ",
      "userId": "15469581439760304926"
     },
     "user_tz": -330
    },
    "id": "1UUk-f6RRqJF",
    "outputId": "b8bc6d16-001c-4b9e-aace-df6e17210525"
   },
   "outputs": [],
   "source": [
    "nltk.word_tokenize(example)"
   ]
  },
  {
   "cell_type": "code",
   "execution_count": null,
   "metadata": {
    "colab": {
     "base_uri": "https://localhost:8080/"
    },
    "executionInfo": {
     "elapsed": 20,
     "status": "ok",
     "timestamp": 1757434973043,
     "user": {
      "displayName": "BIBHANSHU RAJ",
      "userId": "15469581439760304926"
     },
     "user_tz": -330
    },
    "id": "Bn-v9ih8R3tF",
    "outputId": "c766de90-528a-44e9-d367-d6806996df78"
   },
   "outputs": [],
   "source": [
    "# Tokenize the words\n",
    "tokens = nltk.word_tokenize(example)\n",
    "tokens[:10]"
   ]
  },
  {
   "cell_type": "code",
   "execution_count": null,
   "metadata": {
    "colab": {
     "base_uri": "https://localhost:8080/"
    },
    "executionInfo": {
     "elapsed": 3,
     "status": "ok",
     "timestamp": 1757434973047,
     "user": {
      "displayName": "BIBHANSHU RAJ",
      "userId": "15469581439760304926"
     },
     "user_tz": -330
    },
    "id": "7yOKHrLeSMnQ",
    "outputId": "a5c62f25-ca87-4b09-8337-6b0928588e2a"
   },
   "outputs": [],
   "source": [
    "# Tagging the Tokenized Words (e.g.  oatmeal - NN (represents Noun))\n",
    "tagged = nltk.pos_tag(tokens)\n",
    "tagged[:10]"
   ]
  },
  {
   "cell_type": "code",
   "execution_count": null,
   "metadata": {
    "colab": {
     "base_uri": "https://localhost:8080/"
    },
    "executionInfo": {
     "elapsed": 229,
     "status": "ok",
     "timestamp": 1757434973277,
     "user": {
      "displayName": "BIBHANSHU RAJ",
      "userId": "15469581439760304926"
     },
     "user_tz": -330
    },
    "id": "izd7tiVgS3TD",
    "outputId": "d1534165-05e0-4ced-85ad-99d10198dd3a"
   },
   "outputs": [],
   "source": [
    "entities = nltk.chunk.ne_chunk(tagged)\n",
    "print(entities)"
   ]
  },
  {
   "cell_type": "markdown",
   "metadata": {
    "id": "ZicYy5RQTgE4"
   },
   "source": [
    "# *VADER Sentiment Analysis *\n"
   ]
  },
  {
   "cell_type": "code",
   "execution_count": null,
   "metadata": {
    "executionInfo": {
     "elapsed": 75,
     "status": "ok",
     "timestamp": 1757434973353,
     "user": {
      "displayName": "BIBHANSHU RAJ",
      "userId": "15469581439760304926"
     },
     "user_tz": -330
    },
    "id": "TCAs6qLrTsvp"
   },
   "outputs": [],
   "source": [
    "# Vader has three properties Positive, Negative, Neutral takes words from sentece and assign values and then outputs how positive, negative, neutral those sentences are\n",
    "from nltk.sentiment import SentimentIntensityAnalyzer\n",
    "from tqdm.notebook import tqdm\n",
    "\n",
    "sia = SentimentIntensityAnalyzer()\n",
    "\n"
   ]
  },
  {
   "cell_type": "code",
   "execution_count": null,
   "metadata": {
    "colab": {
     "base_uri": "https://localhost:8080/"
    },
    "executionInfo": {
     "elapsed": 10,
     "status": "ok",
     "timestamp": 1757434973354,
     "user": {
      "displayName": "BIBHANSHU RAJ",
      "userId": "15469581439760304926"
     },
     "user_tz": -330
    },
    "id": "5P08bdmGU4aJ",
    "outputId": "86e09414-f7e3-4c73-89d7-8ecf84b953ab"
   },
   "outputs": [],
   "source": [
    "sia.polarity_scores('I fucked up real bad')"
   ]
  },
  {
   "cell_type": "code",
   "execution_count": null,
   "metadata": {
    "colab": {
     "base_uri": "https://localhost:8080/"
    },
    "executionInfo": {
     "elapsed": 6,
     "status": "ok",
     "timestamp": 1757434973354,
     "user": {
      "displayName": "BIBHANSHU RAJ",
      "userId": "15469581439760304926"
     },
     "user_tz": -330
    },
    "id": "pRY9oQdNVEn8",
    "outputId": "3c68f644-d555-4cde-cfef-92136165e656"
   },
   "outputs": [],
   "source": [
    "print(example)\n",
    "sia.polarity_scores(example)"
   ]
  },
  {
   "cell_type": "code",
   "execution_count": null,
   "metadata": {
    "colab": {
     "base_uri": "https://localhost:8080/",
     "height": 49,
     "referenced_widgets": [
      "56b2d819e1b74d8eac3440c78fa23d51",
      "498f52882c044c46a9f5e5e481871b64",
      "3d93f2d1ffbb4f279e3449d688ef32b8",
      "e558389ddcbd4fa6bd4413c415935d2b",
      "f4d2e4c728bb4a86a3526857dd7680e7",
      "898cce4157af4530ba246938ed8a4724",
      "52026a2689ff4ea78213b235e312eb63",
      "142f09591cad414d9e410749d5e0dfb7",
      "14e1349664a74b9a88a132e290b0fe7e",
      "b3b6dda70f2d4fefa587fa55e70a64d5",
      "d825f9d1c6784174bd3ca86c282aa987"
     ]
    },
    "executionInfo": {
     "elapsed": 331,
     "status": "ok",
     "timestamp": 1757434973683,
     "user": {
      "displayName": "BIBHANSHU RAJ",
      "userId": "15469581439760304926"
     },
     "user_tz": -330
    },
    "id": "IIaoNyHOWBWt",
    "outputId": "20dd82bb-2b38-496d-8e41-2951a607efc2"
   },
   "outputs": [],
   "source": [
    "res = {}\n",
    "for i, row in tqdm(df.iterrows(), total=len(df)) :\n",
    "  text = row['Text']\n",
    "  myid = row['Id']\n",
    "  res[myid] = sia.polarity_scores(text)"
   ]
  },
  {
   "cell_type": "code",
   "execution_count": null,
   "metadata": {
    "executionInfo": {
     "elapsed": 72,
     "status": "ok",
     "timestamp": 1757434973753,
     "user": {
      "displayName": "BIBHANSHU RAJ",
      "userId": "15469581439760304926"
     },
     "user_tz": -330
    },
    "id": "u_veJrX-Wjzn"
   },
   "outputs": [],
   "source": [
    "vaders = pd.DataFrame(res).T\n",
    "vaders = vaders.reset_index().rename(columns = {'index' : 'Id'})\n",
    "vaders = vaders.merge(df, how = 'left')"
   ]
  },
  {
   "cell_type": "code",
   "execution_count": null,
   "metadata": {
    "colab": {
     "base_uri": "https://localhost:8080/",
     "height": 754
    },
    "executionInfo": {
     "elapsed": 69,
     "status": "ok",
     "timestamp": 1757434973823,
     "user": {
      "displayName": "BIBHANSHU RAJ",
      "userId": "15469581439760304926"
     },
     "user_tz": -330
    },
    "id": "vf4riTZAW8Ra",
    "outputId": "300a2c79-c1a5-4b50-b75c-ddc88051de85"
   },
   "outputs": [],
   "source": [
    "vaders"
   ]
  },
  {
   "cell_type": "code",
   "execution_count": null,
   "metadata": {
    "colab": {
     "base_uri": "https://localhost:8080/",
     "height": 276
    },
    "executionInfo": {
     "elapsed": 18,
     "status": "ok",
     "timestamp": 1757434973824,
     "user": {
      "displayName": "BIBHANSHU RAJ",
      "userId": "15469581439760304926"
     },
     "user_tz": -330
    },
    "id": "idHzgevzXDze",
    "outputId": "c62a8292-a535-46cd-8c7c-70ce7ed17b9f"
   },
   "outputs": [],
   "source": [
    "# Now we have sentiment Score and Meta Data\n",
    "df.head()"
   ]
  },
  {
   "cell_type": "code",
   "execution_count": null,
   "metadata": {
    "colab": {
     "base_uri": "https://localhost:8080/",
     "height": 477
    },
    "executionInfo": {
     "elapsed": 181,
     "status": "ok",
     "timestamp": 1757434974005,
     "user": {
      "displayName": "BIBHANSHU RAJ",
      "userId": "15469581439760304926"
     },
     "user_tz": -330
    },
    "id": "HB5ePRqlXHrP",
    "outputId": "3b83aa45-1f3d-4126-bc23-03b83fbeea07"
   },
   "outputs": [],
   "source": [
    "# Now comparing (if 1 star review has more negative score than 5 star and more)\n",
    "sns.barplot(data = vaders, x = 'Score', y = 'compound')\n",
    "plt.title('Compound Score by Amazon Star Review')\n",
    "plt.show()"
   ]
  },
  {
   "cell_type": "code",
   "execution_count": null,
   "metadata": {
    "colab": {
     "base_uri": "https://localhost:8080/",
     "height": 477
    },
    "executionInfo": {
     "elapsed": 176,
     "status": "ok",
     "timestamp": 1757434974182,
     "user": {
      "displayName": "BIBHANSHU RAJ",
      "userId": "15469581439760304926"
     },
     "user_tz": -330
    },
    "id": "00EgIG8XYArT",
    "outputId": "7c4d58d5-3c7c-4d81-8339-7042fcfc40cd"
   },
   "outputs": [],
   "source": [
    "# checking positive, negative and neutral\n",
    "sns.barplot(data = vaders, x = 'Score', y = 'pos')\n",
    "plt.title('Positive Score by Amazon Star Review')\n",
    "plt.show()"
   ]
  },
  {
   "cell_type": "code",
   "execution_count": null,
   "metadata": {
    "colab": {
     "base_uri": "https://localhost:8080/",
     "height": 307
    },
    "executionInfo": {
     "elapsed": 579,
     "status": "ok",
     "timestamp": 1757434974760,
     "user": {
      "displayName": "BIBHANSHU RAJ",
      "userId": "15469581439760304926"
     },
     "user_tz": -330
    },
    "id": "XLF_XdpdYZhJ",
    "outputId": "51f1d3e1-dbf9-4cfb-d858-c38e8a88d718"
   },
   "outputs": [],
   "source": [
    "fig, axs = plt.subplots(1, 3, figsize = (12,3))\n",
    "sns.barplot(data = vaders, x = 'Score', y = 'pos', ax = axs[0])\n",
    "sns.barplot(data = vaders, x = 'Score', y = 'neu', ax = axs[1])\n",
    "sns.barplot(data = vaders, x = 'Score', y = 'neg', ax = axs[2])\n",
    "axs[0].set_title('Positive')\n",
    "axs[1].set_title('Neutral')\n",
    "axs[2].set_title('Negative')\n",
    "plt.tight_layout()\n",
    "plt.show()"
   ]
  },
  {
   "cell_type": "code",
   "execution_count": null,
   "metadata": {
    "executionInfo": {
     "elapsed": 3,
     "status": "ok",
     "timestamp": 1757434974763,
     "user": {
      "displayName": "BIBHANSHU RAJ",
      "userId": "15469581439760304926"
     },
     "user_tz": -330
    },
    "id": "0XyTT-eW4xgP"
   },
   "outputs": [],
   "source": [
    "from transformers import AutoTokenizer\n",
    "from transformers import AutoModelForSequenceClassification\n",
    "from scipy.special import softmax"
   ]
  },
  {
   "cell_type": "code",
   "execution_count": null,
   "metadata": {
    "executionInfo": {
     "elapsed": 2720,
     "status": "ok",
     "timestamp": 1757434977485,
     "user": {
      "displayName": "BIBHANSHU RAJ",
      "userId": "15469581439760304926"
     },
     "user_tz": -330
    },
    "id": "EjqVHEkA5On2"
   },
   "outputs": [],
   "source": [
    "# importing pretrained model for sentiment from huggingface\n",
    "MODEL = f\"cardiffnlp/twitter-roberta-base-sentiment\"\n",
    "tokenizer = AutoTokenizer.from_pretrained(MODEL)\n",
    "model = AutoModelForSequenceClassification.from_pretrained(MODEL)"
   ]
  },
  {
   "cell_type": "code",
   "execution_count": null,
   "metadata": {
    "colab": {
     "base_uri": "https://localhost:8080/"
    },
    "executionInfo": {
     "elapsed": 15,
     "status": "ok",
     "timestamp": 1757434977502,
     "user": {
      "displayName": "BIBHANSHU RAJ",
      "userId": "15469581439760304926"
     },
     "user_tz": -330
    },
    "id": "RduUfepw6Gfn",
    "outputId": "0d7bd88e-1287-45b8-dad2-b1864bf70c95"
   },
   "outputs": [],
   "source": [
    "#VADER Example\n",
    "print(example)\n",
    "sia.polarity_scores(example)"
   ]
  },
  {
   "cell_type": "code",
   "execution_count": null,
   "metadata": {
    "colab": {
     "base_uri": "https://localhost:8080/"
    },
    "executionInfo": {
     "elapsed": 177,
     "status": "ok",
     "timestamp": 1757434977680,
     "user": {
      "displayName": "BIBHANSHU RAJ",
      "userId": "15469581439760304926"
     },
     "user_tz": -330
    },
    "id": "PBfv05_U7Lxt",
    "outputId": "624f71fa-5185-4c40-89ab-137455eb23ed"
   },
   "outputs": [],
   "source": [
    "# Run for Roberta Mod3l\n",
    "\n",
    "encoded_text = tokenizer(example, return_tensors = \"pt\")\n",
    "output = model(**encoded_text)\n",
    "\n",
    "# save this as numpy\n",
    "scores = output[0][0].detach().numpy()\n",
    "scores = softmax(scores)\n",
    "scores_dict = {\n",
    "    'roberta_neg' : scores[0],\n",
    "    'roberta_neu' : scores[1],\n",
    "    'roberta_pos' : scores[2]\n",
    "}\n",
    "print(scores_dict)"
   ]
  },
  {
   "cell_type": "code",
   "execution_count": null,
   "metadata": {
    "executionInfo": {
     "elapsed": 1,
     "status": "ok",
     "timestamp": 1757434977688,
     "user": {
      "displayName": "BIBHANSHU RAJ",
      "userId": "15469581439760304926"
     },
     "user_tz": -330
    },
    "id": "33RjZWxUrZdu"
   },
   "outputs": [],
   "source": [
    "def polarity_scores_roberta(example) :\n",
    "  encoded_text = tokenizer(example, return_tensors = \"pt\")\n",
    "  output = model(**encoded_text)\n",
    "\n",
    "# save this as numpy\n",
    "  scores = output[0][0].detach().numpy()\n",
    "  scores = softmax(scores)\n",
    "  scores_dict = {\n",
    "    'roberta_neg' : scores[0],\n",
    "    'roberta_neu' : scores[1],\n",
    "    'roberta_pos' : scores[2]\n",
    "  }\n",
    "  return scores_dict"
   ]
  },
  {
   "cell_type": "code",
   "execution_count": null,
   "metadata": {
    "colab": {
     "base_uri": "https://localhost:8080/",
     "height": 85,
     "referenced_widgets": [
      "caf120eacc534af6a4b4f5fa1091680f",
      "66bceafe6e9c4b6896feca2e4552b98f",
      "e4224382a5ed4e4ca11139e5d2d011d8",
      "dcc7b8e4c31d49f58de77efa2ba145c7",
      "c03df8cdbb6a452193c0708cebf51858",
      "f8449d6bfd34426a8b461e4ffb22f40b",
      "dd53019c5eb54d00ba51341b42924965",
      "46306b29a835427980e78a69ea434efb",
      "385c542e3f3f4d938611f663d6e508b1",
      "d35ab1f908854246b8c54fceb79e75b2",
      "552fb1cb510c40f9b5e065a8087c088d"
     ]
    },
    "executionInfo": {
     "elapsed": 153979,
     "status": "ok",
     "timestamp": 1757435131676,
     "user": {
      "displayName": "BIBHANSHU RAJ",
      "userId": "15469581439760304926"
     },
     "user_tz": -330
    },
    "id": "gMY4akJMsB6w",
    "outputId": "e4db9388-0155-40dc-faa6-fefdc6d2351c"
   },
   "outputs": [],
   "source": [
    "res = {}\n",
    "for i, row in tqdm(df.iterrows(), total=len(df)) :\n",
    "  try :\n",
    "    text = row['Text']\n",
    "    myid = row['Id']\n",
    "    vader_result = sia.polarity_scores(text)\n",
    "\n",
    "    roberta_result = polarity_scores_roberta(text)\n",
    "\n",
    "    both = {**vader_result, **roberta_result}\n",
    "    res[myid] = both\n",
    "  except RuntimeError :\n",
    "    print(f'broke for id {myid}')"
   ]
  },
  {
   "cell_type": "code",
   "execution_count": null,
   "metadata": {
    "executionInfo": {
     "elapsed": 22,
     "status": "ok",
     "timestamp": 1757435131695,
     "user": {
      "displayName": "BIBHANSHU RAJ",
      "userId": "15469581439760304926"
     },
     "user_tz": -330
    },
    "id": "aS8MZqMXsvCc"
   },
   "outputs": [],
   "source": [
    "results_df = pd.DataFrame(res).T\n",
    "results_df = results_df.reset_index().rename(columns = {'index' : 'Id'})\n",
    "results_df = results_df.merge(df, how = 'left')"
   ]
  },
  {
   "cell_type": "code",
   "execution_count": null,
   "metadata": {
    "colab": {
     "base_uri": "https://localhost:8080/",
     "height": 695
    },
    "executionInfo": {
     "elapsed": 47,
     "status": "ok",
     "timestamp": 1757435131746,
     "user": {
      "displayName": "BIBHANSHU RAJ",
      "userId": "15469581439760304926"
     },
     "user_tz": -330
    },
    "id": "sZpPy3u8u_p8",
    "outputId": "a8a8d486-b93d-4e1b-83b3-12ce2e050b49"
   },
   "outputs": [],
   "source": [
    "results_df.head()"
   ]
  },
  {
   "cell_type": "code",
   "execution_count": null,
   "metadata": {
    "colab": {
     "base_uri": "https://localhost:8080/",
     "height": 1000
    },
    "executionInfo": {
     "elapsed": 6447,
     "status": "ok",
     "timestamp": 1757435138195,
     "user": {
      "displayName": "BIBHANSHU RAJ",
      "userId": "15469581439760304926"
     },
     "user_tz": -330
    },
    "id": "9y1oAr_fvD5J",
    "outputId": "f4aed9e2-7bc9-4c49-b0d3-e490602d9450"
   },
   "outputs": [],
   "source": [
    "# Compare scores between models\n",
    "\n",
    "sns.pairplot(data = results_df, vars = ['neg', 'neu', 'pos', 'roberta_neg', 'roberta_neu', 'roberta_pos'], hue = 'Score', palette = 'tab10')\n",
    "plt.show()"
   ]
  },
  {
   "cell_type": "code",
   "execution_count": null,
   "metadata": {
    "colab": {
     "base_uri": "https://localhost:8080/",
     "height": 35
    },
    "executionInfo": {
     "elapsed": 3,
     "status": "ok",
     "timestamp": 1757435138199,
     "user": {
      "displayName": "BIBHANSHU RAJ",
      "userId": "15469581439760304926"
     },
     "user_tz": -330
    },
    "id": "R_ikQwDyvyeG",
    "outputId": "a4fdb6ce-2b46-49d7-86b1-36020a981c59"
   },
   "outputs": [],
   "source": [
    "# Review Examples\n",
    "\n",
    "results_df.query('Score == 1').sort_values('roberta_pos', ascending = False)['Text'].values[0]"
   ]
  },
  {
   "cell_type": "code",
   "execution_count": null,
   "metadata": {
    "colab": {
     "base_uri": "https://localhost:8080/",
     "height": 35
    },
    "executionInfo": {
     "elapsed": 2,
     "status": "ok",
     "timestamp": 1757435138201,
     "user": {
      "displayName": "BIBHANSHU RAJ",
      "userId": "15469581439760304926"
     },
     "user_tz": -330
    },
    "id": "DdR3Max1wNkK",
    "outputId": "3c7db1f7-c920-405b-cc49-445a27072405"
   },
   "outputs": [],
   "source": [
    "# Review Examples\n",
    "\n",
    "results_df.query('Score == 1').sort_values('pos', ascending = False)['Text'].values[0]"
   ]
  },
  {
   "cell_type": "code",
   "execution_count": null,
   "metadata": {
    "colab": {
     "base_uri": "https://localhost:8080/",
     "height": 35
    },
    "executionInfo": {
     "elapsed": 13,
     "status": "ok",
     "timestamp": 1757435138215,
     "user": {
      "displayName": "BIBHANSHU RAJ",
      "userId": "15469581439760304926"
     },
     "user_tz": -330
    },
    "id": "itj0UFXcwyE6",
    "outputId": "26f07321-3306-4fe8-8bc8-3cf04772ff95"
   },
   "outputs": [],
   "source": [
    "# Negative sentiment 5 star review\n",
    "# Review Examples\n",
    "\n",
    "results_df.query('Score == 5').sort_values('roberta_neg', ascending = False)['Text'].values[0]"
   ]
  },
  {
   "cell_type": "code",
   "execution_count": null,
   "metadata": {
    "colab": {
     "base_uri": "https://localhost:8080/",
     "height": 35
    },
    "executionInfo": {
     "elapsed": 1,
     "status": "ok",
     "timestamp": 1757435138217,
     "user": {
      "displayName": "BIBHANSHU RAJ",
      "userId": "15469581439760304926"
     },
     "user_tz": -330
    },
    "id": "KQgL0D3oxKWK",
    "outputId": "583f37ea-9498-4c00-cdd7-19759039c3c2"
   },
   "outputs": [],
   "source": [
    "# Negative sentiment 5 star review\n",
    "# Review Examples\n",
    "\n",
    "results_df.query('Score == 5').sort_values('neg', ascending = False)['Text'].values[0]"
   ]
  },
  {
   "cell_type": "code",
   "execution_count": null,
   "metadata": {
    "colab": {
     "base_uri": "https://localhost:8080/"
    },
    "executionInfo": {
     "elapsed": 16,
     "status": "ok",
     "timestamp": 1757435138234,
     "user": {
      "displayName": "BIBHANSHU RAJ",
      "userId": "15469581439760304926"
     },
     "user_tz": -330
    },
    "id": "1s7zhCV0xNZx",
    "outputId": "3f9df9f5-70dc-419b-f9d4-3bf3b1a4338f"
   },
   "outputs": [],
   "source": [
    "# Hugging Face Transformers pipeline\n",
    "from transformers import pipeline\n",
    "sentiment_pipeline = pipeline(\"sentiment-analysis\")"
   ]
  },
  {
   "cell_type": "code",
   "execution_count": null,
   "metadata": {
    "colab": {
     "base_uri": "https://localhost:8080/"
    },
    "executionInfo": {
     "elapsed": 14,
     "status": "ok",
     "timestamp": 1757435138248,
     "user": {
      "displayName": "BIBHANSHU RAJ",
      "userId": "15469581439760304926"
     },
     "user_tz": -330
    },
    "id": "l64Q-5B1xlxE",
    "outputId": "215ccd7f-7ae4-4854-ff17-50b0c75eec1e"
   },
   "outputs": [],
   "source": [
    "sentiment_pipeline(\"I love sentiment analysis with hugging face\")"
   ]
  },
  {
   "cell_type": "code",
   "execution_count": null,
   "metadata": {
    "colab": {
     "base_uri": "https://localhost:8080/"
    },
    "executionInfo": {
     "elapsed": 6,
     "status": "ok",
     "timestamp": 1757435138256,
     "user": {
      "displayName": "BIBHANSHU RAJ",
      "userId": "15469581439760304926"
     },
     "user_tz": -330
    },
    "id": "D07opRQNyLi2",
    "outputId": "e6d292b7-1918-443d-be6c-11af2bc26b56"
   },
   "outputs": [],
   "source": [
    "sentiment_pipeline(\"positive\")"
   ]
  },
  {
   "cell_type": "code",
   "execution_count": null,
   "metadata": {
    "id": "cezFTy3uTP-4"
   },
   "outputs": [],
   "source": []
  }
 ],
 "metadata": {
  "colab": {
   "authorship_tag": "ABX9TyMGTjqY/LntNZgaVt7zepLC",
   "mount_file_id": "1Hqfa9JGsxjQzCnPbgFkXk-XcfXCWa3ck",
   "provenance": []
  },
  "kernelspec": {
   "display_name": "Python 3",
   "name": "python3"
  },
  "language_info": {
   "name": "python"
  },
  "widgets": {
   "application/vnd.jupyter.widget-state+json": {
    "142f09591cad414d9e410749d5e0dfb7": {
     "model_module": "@jupyter-widgets/base",
     "model_module_version": "1.2.0",
     "model_name": "LayoutModel",
     "state": {
      "_model_module": "@jupyter-widgets/base",
      "_model_module_version": "1.2.0",
      "_model_name": "LayoutModel",
      "_view_count": null,
      "_view_module": "@jupyter-widgets/base",
      "_view_module_version": "1.2.0",
      "_view_name": "LayoutView",
      "align_content": null,
      "align_items": null,
      "align_self": null,
      "border": null,
      "bottom": null,
      "display": null,
      "flex": null,
      "flex_flow": null,
      "grid_area": null,
      "grid_auto_columns": null,
      "grid_auto_flow": null,
      "grid_auto_rows": null,
      "grid_column": null,
      "grid_gap": null,
      "grid_row": null,
      "grid_template_areas": null,
      "grid_template_columns": null,
      "grid_template_rows": null,
      "height": null,
      "justify_content": null,
      "justify_items": null,
      "left": null,
      "margin": null,
      "max_height": null,
      "max_width": null,
      "min_height": null,
      "min_width": null,
      "object_fit": null,
      "object_position": null,
      "order": null,
      "overflow": null,
      "overflow_x": null,
      "overflow_y": null,
      "padding": null,
      "right": null,
      "top": null,
      "visibility": null,
      "width": null
     }
    },
    "14e1349664a74b9a88a132e290b0fe7e": {
     "model_module": "@jupyter-widgets/controls",
     "model_module_version": "1.5.0",
     "model_name": "ProgressStyleModel",
     "state": {
      "_model_module": "@jupyter-widgets/controls",
      "_model_module_version": "1.5.0",
      "_model_name": "ProgressStyleModel",
      "_view_count": null,
      "_view_module": "@jupyter-widgets/base",
      "_view_module_version": "1.2.0",
      "_view_name": "StyleView",
      "bar_color": null,
      "description_width": ""
     }
    },
    "385c542e3f3f4d938611f663d6e508b1": {
     "model_module": "@jupyter-widgets/controls",
     "model_module_version": "1.5.0",
     "model_name": "ProgressStyleModel",
     "state": {
      "_model_module": "@jupyter-widgets/controls",
      "_model_module_version": "1.5.0",
      "_model_name": "ProgressStyleModel",
      "_view_count": null,
      "_view_module": "@jupyter-widgets/base",
      "_view_module_version": "1.2.0",
      "_view_name": "StyleView",
      "bar_color": null,
      "description_width": ""
     }
    },
    "3d93f2d1ffbb4f279e3449d688ef32b8": {
     "model_module": "@jupyter-widgets/controls",
     "model_module_version": "1.5.0",
     "model_name": "FloatProgressModel",
     "state": {
      "_dom_classes": [],
      "_model_module": "@jupyter-widgets/controls",
      "_model_module_version": "1.5.0",
      "_model_name": "FloatProgressModel",
      "_view_count": null,
      "_view_module": "@jupyter-widgets/controls",
      "_view_module_version": "1.5.0",
      "_view_name": "ProgressView",
      "bar_style": "success",
      "description": "",
      "description_tooltip": null,
      "layout": "IPY_MODEL_142f09591cad414d9e410749d5e0dfb7",
      "max": 500,
      "min": 0,
      "orientation": "horizontal",
      "style": "IPY_MODEL_14e1349664a74b9a88a132e290b0fe7e",
      "value": 500
     }
    },
    "46306b29a835427980e78a69ea434efb": {
     "model_module": "@jupyter-widgets/base",
     "model_module_version": "1.2.0",
     "model_name": "LayoutModel",
     "state": {
      "_model_module": "@jupyter-widgets/base",
      "_model_module_version": "1.2.0",
      "_model_name": "LayoutModel",
      "_view_count": null,
      "_view_module": "@jupyter-widgets/base",
      "_view_module_version": "1.2.0",
      "_view_name": "LayoutView",
      "align_content": null,
      "align_items": null,
      "align_self": null,
      "border": null,
      "bottom": null,
      "display": null,
      "flex": null,
      "flex_flow": null,
      "grid_area": null,
      "grid_auto_columns": null,
      "grid_auto_flow": null,
      "grid_auto_rows": null,
      "grid_column": null,
      "grid_gap": null,
      "grid_row": null,
      "grid_template_areas": null,
      "grid_template_columns": null,
      "grid_template_rows": null,
      "height": null,
      "justify_content": null,
      "justify_items": null,
      "left": null,
      "margin": null,
      "max_height": null,
      "max_width": null,
      "min_height": null,
      "min_width": null,
      "object_fit": null,
      "object_position": null,
      "order": null,
      "overflow": null,
      "overflow_x": null,
      "overflow_y": null,
      "padding": null,
      "right": null,
      "top": null,
      "visibility": null,
      "width": null
     }
    },
    "498f52882c044c46a9f5e5e481871b64": {
     "model_module": "@jupyter-widgets/controls",
     "model_module_version": "1.5.0",
     "model_name": "HTMLModel",
     "state": {
      "_dom_classes": [],
      "_model_module": "@jupyter-widgets/controls",
      "_model_module_version": "1.5.0",
      "_model_name": "HTMLModel",
      "_view_count": null,
      "_view_module": "@jupyter-widgets/controls",
      "_view_module_version": "1.5.0",
      "_view_name": "HTMLView",
      "description": "",
      "description_tooltip": null,
      "layout": "IPY_MODEL_898cce4157af4530ba246938ed8a4724",
      "placeholder": "​",
      "style": "IPY_MODEL_52026a2689ff4ea78213b235e312eb63",
      "value": "100%"
     }
    },
    "52026a2689ff4ea78213b235e312eb63": {
     "model_module": "@jupyter-widgets/controls",
     "model_module_version": "1.5.0",
     "model_name": "DescriptionStyleModel",
     "state": {
      "_model_module": "@jupyter-widgets/controls",
      "_model_module_version": "1.5.0",
      "_model_name": "DescriptionStyleModel",
      "_view_count": null,
      "_view_module": "@jupyter-widgets/base",
      "_view_module_version": "1.2.0",
      "_view_name": "StyleView",
      "description_width": ""
     }
    },
    "552fb1cb510c40f9b5e065a8087c088d": {
     "model_module": "@jupyter-widgets/controls",
     "model_module_version": "1.5.0",
     "model_name": "DescriptionStyleModel",
     "state": {
      "_model_module": "@jupyter-widgets/controls",
      "_model_module_version": "1.5.0",
      "_model_name": "DescriptionStyleModel",
      "_view_count": null,
      "_view_module": "@jupyter-widgets/base",
      "_view_module_version": "1.2.0",
      "_view_name": "StyleView",
      "description_width": ""
     }
    },
    "56b2d819e1b74d8eac3440c78fa23d51": {
     "model_module": "@jupyter-widgets/controls",
     "model_module_version": "1.5.0",
     "model_name": "HBoxModel",
     "state": {
      "_dom_classes": [],
      "_model_module": "@jupyter-widgets/controls",
      "_model_module_version": "1.5.0",
      "_model_name": "HBoxModel",
      "_view_count": null,
      "_view_module": "@jupyter-widgets/controls",
      "_view_module_version": "1.5.0",
      "_view_name": "HBoxView",
      "box_style": "",
      "children": [
       "IPY_MODEL_498f52882c044c46a9f5e5e481871b64",
       "IPY_MODEL_3d93f2d1ffbb4f279e3449d688ef32b8",
       "IPY_MODEL_e558389ddcbd4fa6bd4413c415935d2b"
      ],
      "layout": "IPY_MODEL_f4d2e4c728bb4a86a3526857dd7680e7"
     }
    },
    "66bceafe6e9c4b6896feca2e4552b98f": {
     "model_module": "@jupyter-widgets/controls",
     "model_module_version": "1.5.0",
     "model_name": "HTMLModel",
     "state": {
      "_dom_classes": [],
      "_model_module": "@jupyter-widgets/controls",
      "_model_module_version": "1.5.0",
      "_model_name": "HTMLModel",
      "_view_count": null,
      "_view_module": "@jupyter-widgets/controls",
      "_view_module_version": "1.5.0",
      "_view_name": "HTMLView",
      "description": "",
      "description_tooltip": null,
      "layout": "IPY_MODEL_f8449d6bfd34426a8b461e4ffb22f40b",
      "placeholder": "​",
      "style": "IPY_MODEL_dd53019c5eb54d00ba51341b42924965",
      "value": "100%"
     }
    },
    "898cce4157af4530ba246938ed8a4724": {
     "model_module": "@jupyter-widgets/base",
     "model_module_version": "1.2.0",
     "model_name": "LayoutModel",
     "state": {
      "_model_module": "@jupyter-widgets/base",
      "_model_module_version": "1.2.0",
      "_model_name": "LayoutModel",
      "_view_count": null,
      "_view_module": "@jupyter-widgets/base",
      "_view_module_version": "1.2.0",
      "_view_name": "LayoutView",
      "align_content": null,
      "align_items": null,
      "align_self": null,
      "border": null,
      "bottom": null,
      "display": null,
      "flex": null,
      "flex_flow": null,
      "grid_area": null,
      "grid_auto_columns": null,
      "grid_auto_flow": null,
      "grid_auto_rows": null,
      "grid_column": null,
      "grid_gap": null,
      "grid_row": null,
      "grid_template_areas": null,
      "grid_template_columns": null,
      "grid_template_rows": null,
      "height": null,
      "justify_content": null,
      "justify_items": null,
      "left": null,
      "margin": null,
      "max_height": null,
      "max_width": null,
      "min_height": null,
      "min_width": null,
      "object_fit": null,
      "object_position": null,
      "order": null,
      "overflow": null,
      "overflow_x": null,
      "overflow_y": null,
      "padding": null,
      "right": null,
      "top": null,
      "visibility": null,
      "width": null
     }
    },
    "b3b6dda70f2d4fefa587fa55e70a64d5": {
     "model_module": "@jupyter-widgets/base",
     "model_module_version": "1.2.0",
     "model_name": "LayoutModel",
     "state": {
      "_model_module": "@jupyter-widgets/base",
      "_model_module_version": "1.2.0",
      "_model_name": "LayoutModel",
      "_view_count": null,
      "_view_module": "@jupyter-widgets/base",
      "_view_module_version": "1.2.0",
      "_view_name": "LayoutView",
      "align_content": null,
      "align_items": null,
      "align_self": null,
      "border": null,
      "bottom": null,
      "display": null,
      "flex": null,
      "flex_flow": null,
      "grid_area": null,
      "grid_auto_columns": null,
      "grid_auto_flow": null,
      "grid_auto_rows": null,
      "grid_column": null,
      "grid_gap": null,
      "grid_row": null,
      "grid_template_areas": null,
      "grid_template_columns": null,
      "grid_template_rows": null,
      "height": null,
      "justify_content": null,
      "justify_items": null,
      "left": null,
      "margin": null,
      "max_height": null,
      "max_width": null,
      "min_height": null,
      "min_width": null,
      "object_fit": null,
      "object_position": null,
      "order": null,
      "overflow": null,
      "overflow_x": null,
      "overflow_y": null,
      "padding": null,
      "right": null,
      "top": null,
      "visibility": null,
      "width": null
     }
    },
    "c03df8cdbb6a452193c0708cebf51858": {
     "model_module": "@jupyter-widgets/base",
     "model_module_version": "1.2.0",
     "model_name": "LayoutModel",
     "state": {
      "_model_module": "@jupyter-widgets/base",
      "_model_module_version": "1.2.0",
      "_model_name": "LayoutModel",
      "_view_count": null,
      "_view_module": "@jupyter-widgets/base",
      "_view_module_version": "1.2.0",
      "_view_name": "LayoutView",
      "align_content": null,
      "align_items": null,
      "align_self": null,
      "border": null,
      "bottom": null,
      "display": null,
      "flex": null,
      "flex_flow": null,
      "grid_area": null,
      "grid_auto_columns": null,
      "grid_auto_flow": null,
      "grid_auto_rows": null,
      "grid_column": null,
      "grid_gap": null,
      "grid_row": null,
      "grid_template_areas": null,
      "grid_template_columns": null,
      "grid_template_rows": null,
      "height": null,
      "justify_content": null,
      "justify_items": null,
      "left": null,
      "margin": null,
      "max_height": null,
      "max_width": null,
      "min_height": null,
      "min_width": null,
      "object_fit": null,
      "object_position": null,
      "order": null,
      "overflow": null,
      "overflow_x": null,
      "overflow_y": null,
      "padding": null,
      "right": null,
      "top": null,
      "visibility": null,
      "width": null
     }
    },
    "caf120eacc534af6a4b4f5fa1091680f": {
     "model_module": "@jupyter-widgets/controls",
     "model_module_version": "1.5.0",
     "model_name": "HBoxModel",
     "state": {
      "_dom_classes": [],
      "_model_module": "@jupyter-widgets/controls",
      "_model_module_version": "1.5.0",
      "_model_name": "HBoxModel",
      "_view_count": null,
      "_view_module": "@jupyter-widgets/controls",
      "_view_module_version": "1.5.0",
      "_view_name": "HBoxView",
      "box_style": "",
      "children": [
       "IPY_MODEL_66bceafe6e9c4b6896feca2e4552b98f",
       "IPY_MODEL_e4224382a5ed4e4ca11139e5d2d011d8",
       "IPY_MODEL_dcc7b8e4c31d49f58de77efa2ba145c7"
      ],
      "layout": "IPY_MODEL_c03df8cdbb6a452193c0708cebf51858"
     }
    },
    "d35ab1f908854246b8c54fceb79e75b2": {
     "model_module": "@jupyter-widgets/base",
     "model_module_version": "1.2.0",
     "model_name": "LayoutModel",
     "state": {
      "_model_module": "@jupyter-widgets/base",
      "_model_module_version": "1.2.0",
      "_model_name": "LayoutModel",
      "_view_count": null,
      "_view_module": "@jupyter-widgets/base",
      "_view_module_version": "1.2.0",
      "_view_name": "LayoutView",
      "align_content": null,
      "align_items": null,
      "align_self": null,
      "border": null,
      "bottom": null,
      "display": null,
      "flex": null,
      "flex_flow": null,
      "grid_area": null,
      "grid_auto_columns": null,
      "grid_auto_flow": null,
      "grid_auto_rows": null,
      "grid_column": null,
      "grid_gap": null,
      "grid_row": null,
      "grid_template_areas": null,
      "grid_template_columns": null,
      "grid_template_rows": null,
      "height": null,
      "justify_content": null,
      "justify_items": null,
      "left": null,
      "margin": null,
      "max_height": null,
      "max_width": null,
      "min_height": null,
      "min_width": null,
      "object_fit": null,
      "object_position": null,
      "order": null,
      "overflow": null,
      "overflow_x": null,
      "overflow_y": null,
      "padding": null,
      "right": null,
      "top": null,
      "visibility": null,
      "width": null
     }
    },
    "d825f9d1c6784174bd3ca86c282aa987": {
     "model_module": "@jupyter-widgets/controls",
     "model_module_version": "1.5.0",
     "model_name": "DescriptionStyleModel",
     "state": {
      "_model_module": "@jupyter-widgets/controls",
      "_model_module_version": "1.5.0",
      "_model_name": "DescriptionStyleModel",
      "_view_count": null,
      "_view_module": "@jupyter-widgets/base",
      "_view_module_version": "1.2.0",
      "_view_name": "StyleView",
      "description_width": ""
     }
    },
    "dcc7b8e4c31d49f58de77efa2ba145c7": {
     "model_module": "@jupyter-widgets/controls",
     "model_module_version": "1.5.0",
     "model_name": "HTMLModel",
     "state": {
      "_dom_classes": [],
      "_model_module": "@jupyter-widgets/controls",
      "_model_module_version": "1.5.0",
      "_model_name": "HTMLModel",
      "_view_count": null,
      "_view_module": "@jupyter-widgets/controls",
      "_view_module_version": "1.5.0",
      "_view_name": "HTMLView",
      "description": "",
      "description_tooltip": null,
      "layout": "IPY_MODEL_d35ab1f908854246b8c54fceb79e75b2",
      "placeholder": "​",
      "style": "IPY_MODEL_552fb1cb510c40f9b5e065a8087c088d",
      "value": " 500/500 [02:33&lt;00:00,  3.67it/s]"
     }
    },
    "dd53019c5eb54d00ba51341b42924965": {
     "model_module": "@jupyter-widgets/controls",
     "model_module_version": "1.5.0",
     "model_name": "DescriptionStyleModel",
     "state": {
      "_model_module": "@jupyter-widgets/controls",
      "_model_module_version": "1.5.0",
      "_model_name": "DescriptionStyleModel",
      "_view_count": null,
      "_view_module": "@jupyter-widgets/base",
      "_view_module_version": "1.2.0",
      "_view_name": "StyleView",
      "description_width": ""
     }
    },
    "e4224382a5ed4e4ca11139e5d2d011d8": {
     "model_module": "@jupyter-widgets/controls",
     "model_module_version": "1.5.0",
     "model_name": "FloatProgressModel",
     "state": {
      "_dom_classes": [],
      "_model_module": "@jupyter-widgets/controls",
      "_model_module_version": "1.5.0",
      "_model_name": "FloatProgressModel",
      "_view_count": null,
      "_view_module": "@jupyter-widgets/controls",
      "_view_module_version": "1.5.0",
      "_view_name": "ProgressView",
      "bar_style": "success",
      "description": "",
      "description_tooltip": null,
      "layout": "IPY_MODEL_46306b29a835427980e78a69ea434efb",
      "max": 500,
      "min": 0,
      "orientation": "horizontal",
      "style": "IPY_MODEL_385c542e3f3f4d938611f663d6e508b1",
      "value": 500
     }
    },
    "e558389ddcbd4fa6bd4413c415935d2b": {
     "model_module": "@jupyter-widgets/controls",
     "model_module_version": "1.5.0",
     "model_name": "HTMLModel",
     "state": {
      "_dom_classes": [],
      "_model_module": "@jupyter-widgets/controls",
      "_model_module_version": "1.5.0",
      "_model_name": "HTMLModel",
      "_view_count": null,
      "_view_module": "@jupyter-widgets/controls",
      "_view_module_version": "1.5.0",
      "_view_name": "HTMLView",
      "description": "",
      "description_tooltip": null,
      "layout": "IPY_MODEL_b3b6dda70f2d4fefa587fa55e70a64d5",
      "placeholder": "​",
      "style": "IPY_MODEL_d825f9d1c6784174bd3ca86c282aa987",
      "value": " 500/500 [00:00&lt;00:00, 1570.94it/s]"
     }
    },
    "f4d2e4c728bb4a86a3526857dd7680e7": {
     "model_module": "@jupyter-widgets/base",
     "model_module_version": "1.2.0",
     "model_name": "LayoutModel",
     "state": {
      "_model_module": "@jupyter-widgets/base",
      "_model_module_version": "1.2.0",
      "_model_name": "LayoutModel",
      "_view_count": null,
      "_view_module": "@jupyter-widgets/base",
      "_view_module_version": "1.2.0",
      "_view_name": "LayoutView",
      "align_content": null,
      "align_items": null,
      "align_self": null,
      "border": null,
      "bottom": null,
      "display": null,
      "flex": null,
      "flex_flow": null,
      "grid_area": null,
      "grid_auto_columns": null,
      "grid_auto_flow": null,
      "grid_auto_rows": null,
      "grid_column": null,
      "grid_gap": null,
      "grid_row": null,
      "grid_template_areas": null,
      "grid_template_columns": null,
      "grid_template_rows": null,
      "height": null,
      "justify_content": null,
      "justify_items": null,
      "left": null,
      "margin": null,
      "max_height": null,
      "max_width": null,
      "min_height": null,
      "min_width": null,
      "object_fit": null,
      "object_position": null,
      "order": null,
      "overflow": null,
      "overflow_x": null,
      "overflow_y": null,
      "padding": null,
      "right": null,
      "top": null,
      "visibility": null,
      "width": null
     }
    },
    "f8449d6bfd34426a8b461e4ffb22f40b": {
     "model_module": "@jupyter-widgets/base",
     "model_module_version": "1.2.0",
     "model_name": "LayoutModel",
     "state": {
      "_model_module": "@jupyter-widgets/base",
      "_model_module_version": "1.2.0",
      "_model_name": "LayoutModel",
      "_view_count": null,
      "_view_module": "@jupyter-widgets/base",
      "_view_module_version": "1.2.0",
      "_view_name": "LayoutView",
      "align_content": null,
      "align_items": null,
      "align_self": null,
      "border": null,
      "bottom": null,
      "display": null,
      "flex": null,
      "flex_flow": null,
      "grid_area": null,
      "grid_auto_columns": null,
      "grid_auto_flow": null,
      "grid_auto_rows": null,
      "grid_column": null,
      "grid_gap": null,
      "grid_row": null,
      "grid_template_areas": null,
      "grid_template_columns": null,
      "grid_template_rows": null,
      "height": null,
      "justify_content": null,
      "justify_items": null,
      "left": null,
      "margin": null,
      "max_height": null,
      "max_width": null,
      "min_height": null,
      "min_width": null,
      "object_fit": null,
      "object_position": null,
      "order": null,
      "overflow": null,
      "overflow_x": null,
      "overflow_y": null,
      "padding": null,
      "right": null,
      "top": null,
      "visibility": null,
      "width": null
     }
    }
   }
  }
 },
 "nbformat": 4,
 "nbformat_minor": 0
}
